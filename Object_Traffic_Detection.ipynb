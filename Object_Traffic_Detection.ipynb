{
 "cells": [
  {
   "cell_type": "code",
   "execution_count": 32,
   "metadata": {},
   "outputs": [],
   "source": [
    "# import os\n",
    "# import numpy as np\n",
    "# import matplotlib.pyplot as plt\n",
    "# import matplotlib.image as mpimg\n",
    "# import cv2"
   ]
  },
  {
   "cell_type": "code",
   "execution_count": 33,
   "metadata": {},
   "outputs": [],
   "source": [
    "import os\n",
    "import pandas as pd\n",
    "#from scipy.misc import imread\n",
    "from skimage.io import imread\n",
    "import scipy.misc\n",
    "import math\n",
    "import numpy as np\n",
    "import cv2\n",
    "import keras\n",
    "import seaborn as sns\n",
    "from keras.layers.convolutional import Conv2D, MaxPooling2D\n",
    "from keras.layers import Dense, Dropout, Flatten, Input\n",
    "from keras.layers import Conv2D, MaxPooling2D\n",
    "from keras.layers import BatchNormalization\n",
    "from keras.optimizers import Adam\n",
    "from keras.models import Sequential\n",
    "\n",
    "# from the follwing https://towardsdatascience.com/traffic-sign-detection-using-convolutional-neural-network-660fb32fe90e \n",
    "# trying to understand the basics of using keras and the paramters vs the hyperparamters"
   ]
  },
  {
   "cell_type": "code",
   "execution_count": 34,
   "metadata": {},
   "outputs": [],
   "source": [
    "# %pylab inline\n",
    "# import os\n",
    "# import numpy as np\n",
    "# import pandas as pd\n",
    "# import scipy.misc\n",
    "# #from scipy.misc import imread\n",
    "# from sklearn.metrics import accuracy_score\n",
    "# import tensorflow as tf\n",
    "# import keras\n",
    "# from keras.layers import Dense, Dropout, Flatten, Conv2D, MaxPooling2D\n",
    "# from keras.optimizers import Adam"
   ]
  },
  {
   "cell_type": "code",
   "execution_count": 35,
   "metadata": {},
   "outputs": [],
   "source": [
    "#this loaded csv files\n",
    "data_dir = os.path.realpath('./Images2/')\n",
    "\n",
    "train = pd.read_csv(os.path.join(data_dir, 'train', 'train.csv'))\n",
    "test = pd.read_csv(os.path.join(data_dir, 'test', 'test.csv'))\n",
    "\n",
    "#sample_submission = pd.read_csv(os.path.join(data_dir, 'Sample_Submission.csv'))\n"
   ]
  },
  {
   "cell_type": "code",
   "execution_count": 36,
   "metadata": {
    "scrolled": true
   },
   "outputs": [
    {
     "data": {
      "text/html": [
       "<div>\n",
       "<style scoped>\n",
       "    .dataframe tbody tr th:only-of-type {\n",
       "        vertical-align: middle;\n",
       "    }\n",
       "\n",
       "    .dataframe tbody tr th {\n",
       "        vertical-align: top;\n",
       "    }\n",
       "\n",
       "    .dataframe thead th {\n",
       "        text-align: right;\n",
       "    }\n",
       "</style>\n",
       "<table border=\"1\" class=\"dataframe\">\n",
       "  <thead>\n",
       "    <tr style=\"text-align: right;\">\n",
       "      <th></th>\n",
       "      <th>filename</th>\n",
       "      <th>label</th>\n",
       "    </tr>\n",
       "  </thead>\n",
       "  <tbody>\n",
       "    <tr>\n",
       "      <th>0</th>\n",
       "      <td>0.png</td>\n",
       "      <td>4</td>\n",
       "    </tr>\n",
       "    <tr>\n",
       "      <th>1</th>\n",
       "      <td>1.png</td>\n",
       "      <td>9</td>\n",
       "    </tr>\n",
       "    <tr>\n",
       "      <th>2</th>\n",
       "      <td>2.png</td>\n",
       "      <td>1</td>\n",
       "    </tr>\n",
       "    <tr>\n",
       "      <th>3</th>\n",
       "      <td>3.png</td>\n",
       "      <td>7</td>\n",
       "    </tr>\n",
       "    <tr>\n",
       "      <th>4</th>\n",
       "      <td>4.png</td>\n",
       "      <td>3</td>\n",
       "    </tr>\n",
       "    <tr>\n",
       "      <th>...</th>\n",
       "      <td>...</td>\n",
       "      <td>...</td>\n",
       "    </tr>\n",
       "    <tr>\n",
       "      <th>48995</th>\n",
       "      <td>48995.png</td>\n",
       "      <td>2</td>\n",
       "    </tr>\n",
       "    <tr>\n",
       "      <th>48996</th>\n",
       "      <td>48996.png</td>\n",
       "      <td>4</td>\n",
       "    </tr>\n",
       "    <tr>\n",
       "      <th>48997</th>\n",
       "      <td>48997.png</td>\n",
       "      <td>9</td>\n",
       "    </tr>\n",
       "    <tr>\n",
       "      <th>48998</th>\n",
       "      <td>48998.png</td>\n",
       "      <td>3</td>\n",
       "    </tr>\n",
       "    <tr>\n",
       "      <th>48999</th>\n",
       "      <td>48999.png</td>\n",
       "      <td>0</td>\n",
       "    </tr>\n",
       "  </tbody>\n",
       "</table>\n",
       "<p>49000 rows × 2 columns</p>\n",
       "</div>"
      ],
      "text/plain": [
       "        filename  label\n",
       "0          0.png      4\n",
       "1          1.png      9\n",
       "2          2.png      1\n",
       "3          3.png      7\n",
       "4          4.png      3\n",
       "...          ...    ...\n",
       "48995  48995.png      2\n",
       "48996  48996.png      4\n",
       "48997  48997.png      9\n",
       "48998  48998.png      3\n",
       "48999  48999.png      0\n",
       "\n",
       "[49000 rows x 2 columns]"
      ]
     },
     "execution_count": 36,
     "metadata": {},
     "output_type": "execute_result"
    }
   ],
   "source": [
    "train"
   ]
  },
  {
   "cell_type": "code",
   "execution_count": 37,
   "metadata": {},
   "outputs": [
    {
     "name": "stdout",
     "output_type": "stream",
     "text": [
      "(49000, 28, 28)\n",
      "(49000, 784)\n"
     ]
    }
   ],
   "source": [
    "temp = []\n",
    "for img_name in train.filename:\n",
    "    image_path = os.path.join(data_dir, 'train', img_name)\n",
    "    img = imread(image_path, flatten=True)\n",
    "    img = img.astype('float32')\n",
    "    temp.append(img)\n",
    "    \n",
    "train_x = np.stack(temp)\n",
    "print(train_x.shape)\n",
    "train_x /= 255.0\n",
    "train_x = train_x.reshape(-1, 784).astype('float32')\n",
    "print(train_x.shape)\n"
   ]
  },
  {
   "cell_type": "code",
   "execution_count": 38,
   "metadata": {},
   "outputs": [],
   "source": [
    "temp = []\n",
    "for img_name in test.filename:\n",
    "    image_path = os.path.join(data_dir, 'test', img_name)\n",
    "    img = imread(image_path, flatten=True)\n",
    "    img = img.astype('float32')\n",
    "    temp.append(img)\n",
    "    \n",
    "test_x = np.stack(temp)\n",
    "\n",
    "test_x /= 255.0\n",
    "test_x = test_x.reshape(-1, 784).astype('float32')\n"
   ]
  },
  {
   "cell_type": "code",
   "execution_count": 39,
   "metadata": {},
   "outputs": [
    {
     "name": "stdout",
     "output_type": "stream",
     "text": [
      "(21000, 784)\n"
     ]
    }
   ],
   "source": [
    "print(test_x.shape)"
   ]
  },
  {
   "cell_type": "code",
   "execution_count": 40,
   "metadata": {},
   "outputs": [],
   "source": [
    "train_y = keras.utils.np_utils.to_categorical(train.label.values)\n",
    "\n",
    "split_size = int(train_x.shape[0]*0.7)"
   ]
  },
  {
   "cell_type": "code",
   "execution_count": 41,
   "metadata": {},
   "outputs": [],
   "source": [
    "# split training dataset into train and validation dataset\n",
    "train_x, val_x = train_x[:24500], train_x[24500:]\n",
    "train_y, val_y = train_y[:24500], train_y[24500:]"
   ]
  },
  {
   "cell_type": "code",
   "execution_count": 42,
   "metadata": {},
   "outputs": [],
   "source": [
    "# reshape data as the keras model requires\n",
    "\n",
    "train_x_temp = train_x.reshape(-1, 28, 28, 1)\n",
    "val_x_temp = val_x.reshape(-1, 28, 28, 1)"
   ]
  },
  {
   "cell_type": "code",
   "execution_count": 43,
   "metadata": {},
   "outputs": [],
   "source": [
    "# define vars\n",
    "input_shape = (784,)\n",
    "input_reshape = (28, 28, 1)\n",
    "\n",
    "hidden_num_units = 2048\n",
    "hidden_num_units1 = 1024\n",
    "hidden_num_units2 = 128\n",
    "output_num_units = 10\n",
    "\n",
    "epochs = 2 #chagned the epoch time to save time.\n",
    "batch_size = 16"
   ]
  },
  {
   "cell_type": "code",
   "execution_count": 44,
   "metadata": {},
   "outputs": [],
   "source": [
    "# # Max-pool reduces the size of inputs, by taking the largest pixel-value from a grid\n",
    "# nn.add(MaxPooling2D(pool_size=(2, 2)))\n",
    "# nn.add(Conv2D(64, 3, 3, activation='relu'))\n",
    "# nn.add(MaxPooling2D(pool_size=(2, 2)))\n",
    "# nn.add(Flatten())\n",
    "# nn.add(Dense(128, activation='relu'))\n",
    "# nn.add(Dense(10, activation='softmax'))"
   ]
  },
  {
   "cell_type": "code",
   "execution_count": 45,
   "metadata": {},
   "outputs": [],
   "source": [
    "#creating a model with different paramters that can be tunned to see which will prform the best\n",
    "model = Sequential([\n",
    "\n",
    " Conv2D(16, (3, 3), activation='relu', input_shape=input_reshape, padding='same'),\n",
    " BatchNormalization(),\n",
    "\n",
    " Conv2D(16, (3, 3), activation='relu', padding='same'),\n",
    " BatchNormalization(),\n",
    " MaxPooling2D(pool_size=(2, 2)),\n",
    " Dropout(0.2),\n",
    "    \n",
    " Conv2D(32, (3, 3), activation='relu', padding='same'),\n",
    " BatchNormalization(),\n",
    "    \n",
    " Conv2D(32, (3, 3), activation='relu', padding='same'),\n",
    " BatchNormalization(),\n",
    " MaxPooling2D(pool_size=(2, 2)),\n",
    " Dropout(0.2),\n",
    "    \n",
    " Conv2D(64, (3, 3), activation='relu', padding='same'),\n",
    " BatchNormalization(),\n",
    "    \n",
    " Conv2D(64, (3, 3), activation='relu', padding='same'),\n",
    " BatchNormalization(),\n",
    " MaxPooling2D(pool_size=(2, 2)),\n",
    " Dropout(0.2),\n",
    "\n",
    " Flatten(),\n",
    "\n",
    " Dense(units=hidden_num_units, activation='relu'),\n",
    " Dropout(0.3),\n",
    " Dense(units=hidden_num_units1, activation='relu'),\n",
    " Dropout(0.3),\n",
    " Dense(units=hidden_num_units2, activation='relu'),\n",
    " Dropout(0.3),\n",
    " Dense(units=output_num_units, input_dim=hidden_num_units, activation='softmax'),\n",
    "])"
   ]
  },
  {
   "cell_type": "code",
   "execution_count": 46,
   "metadata": {},
   "outputs": [],
   "source": [
    "model.compile(loss='categorical_crossentropy', optimizer=Adam(lr=1e-4), metrics=['accuracy'])"
   ]
  },
  {
   "cell_type": "code",
   "execution_count": 47,
   "metadata": {},
   "outputs": [
    {
     "name": "stdout",
     "output_type": "stream",
     "text": [
      "Train on 24500 samples, validate on 24500 samples\n",
      "Epoch 1/2\n",
      "24500/24500 [==============================] - 423s 17ms/step - loss: 0.7010 - accuracy: 0.7685 - val_loss: 0.2433 - val_accuracy: 0.9227\n",
      "Epoch 2/2\n",
      "24500/24500 [==============================] - 416s 17ms/step - loss: 0.2020 - accuracy: 0.9380 - val_loss: 0.1396 - val_accuracy: 0.9559\n"
     ]
    }
   ],
   "source": [
    "trained_model_conv = model.fit(train_x_temp, train_y, epochs=epochs, batch_size=batch_size, \n",
    "                               validation_data=(val_x_temp, val_y))"
   ]
  },
  {
   "cell_type": "code",
   "execution_count": 48,
   "metadata": {},
   "outputs": [],
   "source": [
    "test_x_temp = test_x.reshape(-1, 28, 28, 1)\n",
    "pred = model.predict_classes(test_x_temp)"
   ]
  },
  {
   "cell_type": "code",
   "execution_count": null,
   "metadata": {},
   "outputs": [],
   "source": []
  }
 ],
 "metadata": {
  "kernelspec": {
   "display_name": "Python 3",
   "language": "python",
   "name": "python3"
  },
  "language_info": {
   "codemirror_mode": {
    "name": "ipython",
    "version": 3
   },
   "file_extension": ".py",
   "mimetype": "text/x-python",
   "name": "python",
   "nbconvert_exporter": "python",
   "pygments_lexer": "ipython3",
   "version": "3.7.4"
  }
 },
 "nbformat": 4,
 "nbformat_minor": 2
}
